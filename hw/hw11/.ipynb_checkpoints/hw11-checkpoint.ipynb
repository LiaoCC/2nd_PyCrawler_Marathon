{
 "cells": [
  {
   "cell_type": "code",
   "execution_count": 10,
   "metadata": {},
   "outputs": [
    {
     "name": "stdout",
     "output_type": "stream",
     "text": [
      "[]\n"
     ]
    }
   ],
   "source": [
    "import re\n",
    "regex = '(\\d{1,3}).(\\d{1,3}).(\\d{1,3}).(\\d{1,3})'\n",
    "\n",
    "r = re.findall(regex,'29.34.56')\n",
    "print(r)"
   ]
  },
  {
   "cell_type": "code",
   "execution_count": 23,
   "metadata": {},
   "outputs": [
    {
     "name": "stdout",
     "output_type": "stream",
     "text": [
      "['https://movies.yahoo.com.tw/movietime_result.html/id=9467']\n"
     ]
    }
   ],
   "source": [
    "html_a_tag = \"\"\"<a href=\"https://movies.yahoo.com.tw/movietime_result.html/id=9467\"> 時刻表 </a>\"\"\"\n",
    "# 過濾 URL\n",
    "#\n",
    "# 想法： a標籤內 href後面會帶 =\"網址\"，所以我只要用re找出 第一個\"後面的所有資料，直到第二個\"就可以了。\n",
    "# 這樣做的好處是：不管網頁的hypertext reference長甚麼鬼樣子，我都抓的到。\n",
    "# 這樣做的缺點是：每一個配對完的結果，都需要做一次清洗。 result= [result[i][6:len(result[i])-1] for i in range(len(result))]\n",
    "#\n",
    "# 因為字串內會有雙引號，所以用來代表regex是字串的引號必須是單引號或是前後各三個雙引號。\n",
    "\n",
    "import re\n",
    "regex = 'href=\".*?\"'\n",
    "\n",
    "result = re.findall(regex,html_a_tag)\n",
    "result= [result[i][6:len(result[i])-1] for i in range(len(result))]\n",
    "print(result)"
   ]
  },
  {
   "cell_type": "code",
   "execution_count": 71,
   "metadata": {},
   "outputs": [
    {
     "name": "stdout",
     "output_type": "stream",
     "text": [
      "[('123', '2', '46', '16')] 1\n"
     ]
    }
   ],
   "source": [
    "'''\n",
    "過濾 IP address\n",
    "\n",
    "想法： 合法的IP address在數字間要用.表示，所以這裡用跳脫符號來表示.。另外，IP address中四組數字的有效範圍是 0~255\n",
    "\n",
    "這裡把他當成三個狀況來看\n",
    "\n",
    "考慮input的形式為： 0~3個數字.0~3個數字.0~3個數字.0~3個數字\n",
    "\n",
    "0~99    : 尋找2位整數，且前方不為整數\n",
    "100~199 : 開頭為1，後面接兩個\\d的字串 ，且前方不為整數\n",
    "200~250 : 開頭為2，中間為012345其中一個值，後面接一個\\d的字串 ，且前方不為整數\n",
    "250~255 : 開頭為25，最後一個值為012345其中一個的字串 ，且前方不為整數\n",
    "'''\n",
    "import re\n",
    "a='((?<!\\d)\\d{1,2}|(?<!\\d)1\\d{1,2}|(?<!\\d)2[012345]\\d|(?<!\\d)25[012345])'\n",
    "regex = a+'\\.'+a+'\\.'+a+'\\.'+a\n",
    "target = 'hello, 123.2.46.165'\n",
    "\n",
    "\n",
    "r = re.findall(regex,target)\n",
    "print(r)\n",
    "\n"
   ]
  },
  {
   "cell_type": "code",
   "execution_count": null,
   "metadata": {},
   "outputs": [],
   "source": []
  },
  {
   "cell_type": "code",
   "execution_count": null,
   "metadata": {},
   "outputs": [],
   "source": []
  },
  {
   "cell_type": "code",
   "execution_count": null,
   "metadata": {},
   "outputs": [],
   "source": []
  }
 ],
 "metadata": {
  "kernelspec": {
   "display_name": "Python 3",
   "language": "python",
   "name": "python3"
  },
  "language_info": {
   "codemirror_mode": {
    "name": "ipython",
    "version": 3
   },
   "file_extension": ".py",
   "mimetype": "text/x-python",
   "name": "python",
   "nbconvert_exporter": "python",
   "pygments_lexer": "ipython3",
   "version": "3.7.3"
  }
 },
 "nbformat": 4,
 "nbformat_minor": 2
}
