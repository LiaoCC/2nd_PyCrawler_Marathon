{
 "cells": [
  {
   "cell_type": "code",
   "execution_count": 13,
   "metadata": {},
   "outputs": [
    {
     "name": "stdout",
     "output_type": "stream",
     "text": [
      "There is hello world.txt inside folder \"data\"!!\n",
      "Correct!\n"
     ]
    }
   ],
   "source": [
    "import os\n",
    "from urllib.request import urlretrieve\n",
    "\n",
    "url = \"https://www.w3.org/TR/PNG/iso_8859-1.txt\"\n",
    "path = os.path.abspath('./data')\n",
    "filePath = os.path.join(path,'hello world.txt')\n",
    "\n",
    "urlretrieve(url, filePath)\n",
    "file = os.listdir(\"./data\")\n",
    "if 'hello world.txt' in file: print('There is hello world.txt inside folder \"data\"!!')\n",
    "with open(filePath, 'wt', encoding='utf-8') as txt:\n",
    "    print('hello world', file = txt)\n",
    "\n",
    "# Check if the hello world.txt \n",
    "with open(filePath, 'rt', encoding='utf-8') as txt:\n",
    "    char = txt.read().strip()\n",
    "    if len(char) == len('hello world'): print('Correct!')"
   ]
  },
  {
   "cell_type": "code",
   "execution_count": null,
   "metadata": {},
   "outputs": [],
   "source": [
    "\n"
   ]
  },
  {
   "cell_type": "code",
   "execution_count": null,
   "metadata": {},
   "outputs": [],
   "source": []
  }
 ],
 "metadata": {
  "kernelspec": {
   "display_name": "Python 3",
   "language": "python",
   "name": "python3"
  },
  "language_info": {
   "codemirror_mode": {
    "name": "ipython",
    "version": 3
   },
   "file_extension": ".py",
   "mimetype": "text/x-python",
   "name": "python",
   "nbconvert_exporter": "python",
   "pygments_lexer": "ipython3",
   "version": "3.7.3"
  }
 },
 "nbformat": 4,
 "nbformat_minor": 2
}
