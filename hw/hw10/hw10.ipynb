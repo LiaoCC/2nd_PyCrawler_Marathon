{
 "cells": [
  {
   "cell_type": "code",
   "execution_count": 69,
   "metadata": {},
   "outputs": [
    {
     "name": "stdout",
     "output_type": "stream",
     "text": [
      "<class 'pyquery.pyquery.PyQuery'>\n",
      "1 <class 'pyquery.pyquery.PyQuery'> 植物板 | Dcard\n"
     ]
    }
   ],
   "source": [
    "'''\n",
    "beautifulsoup 把節點做成attribute方便定位，同時也提供遍歷/搜尋 節點的方法 (find, findall, select)。\n",
    "\n",
    "而pyquery每次運行都回傳對應tag的節點。(如有複數個，可以用len()找總數，用hyperlinks.eq(n)看第N個節點)\n",
    "註：pyquery屎一般的文檔：https://pythonhosted.org/pyquery/index.html#full-documentation\n",
    "\n",
    "# pyquery 預設載入 urllib / request(如果有) ，所以可以直接傳入URL當作輸入\n",
    "# pyquery 可以接受的輸入有 代碼 / URL / 文檔。\n",
    "# 使用 doc = pq(['代碼' | url=\"https://google.com\" | filename = \"D:/demo.xml\"]) 輸入檔案，並可以用parser關鍵字指定解析方式。\n",
    "'''\n",
    "import re,requests\n",
    "from PIL import Image\n",
    "from pyquery import PyQuery as pq\n",
    "\n",
    "url = 'https://www.dcard.tw/f/plant'\n",
    "urlBase = 'https://'\n",
    "VisitedLinks = set()\n",
    "i=0\n",
    "\n",
    "## Create Permanent connection\n",
    "rs = requests.Session()\n",
    "\n",
    "## get the response\n",
    "r = rs.get(url)\n",
    "doc = pq(url=url)\n",
    "print(type(doc))\n",
    "title = doc('title')\n",
    "hyperlinks= doc('a')\n",
    "print(len(title),type(title), title.text())\n",
    "\n",
    "for i in range(len(hyperlinks)):\n",
    "    \n",
    "    ## Check if the hypertext reference in tag \"a\" is valid.\n",
    "    hlink = hyperlinks.eq(i).attr('href')\n",
    "    if not hlink: continue\n",
    "    valid = re.search(r'/p/\\d+',hlink)\n",
    "    if not valid: continue\n",
    "        \n",
    "    ## Check if the urlPost have been visited\n",
    "    UrlPost = url+valid.group()\n",
    "    if UrlPost in VisitedLinks: continue\n",
    "    VisitedLinks.add(UrlPost)\n",
    "    \n",
    "    ## Get image in each post.\n",
    "    doc2 = pq(url=UrlPost)\n",
    "    pics = doc2('img')\n",
    "    break\n",
    "    for j in range(len(pics)):\n",
    "        picurl = pics.eq(j).attr('src')\n",
    "        if not picurl: continue \n",
    "        picurl = re.search('imgur.*',picurl)\n",
    "        if not picurl: continue\n",
    "        print(pics.eq(j).attr('src'))\n",
    "        with rs.get(pics.eq(j).attr('src'),stream=True) as rPic:\n",
    "            im = Image.open(rPic.raw)\n",
    "            im.save('{}.'.format(i)+im.format)\n",
    "            i += 1\n",
    "        \n",
    "    break    "
   ]
  },
  {
   "cell_type": "code",
   "execution_count": 8,
   "metadata": {},
   "outputs": [
    {
     "name": "stdout",
     "output_type": "stream",
     "text": [
      "<class 'bs4.element.Tag'> 植物板 | Dcard\n"
     ]
    }
   ],
   "source": [
    "# Using requests and beautifulsoup to get pictures on dcard/plant\n",
    "\n",
    "# 原本想往曬貓版去做，但不會處理webp，所以先用plant版做。(這個版的圖床是imgur，比較簡單。)\n",
    "# 作業繳交之後研究一下怎麼處理WEBP檔。\n",
    "#\n",
    "import requests, re\n",
    "from PIL import Image\n",
    "from bs4 import BeautifulSoup as bs\n",
    "\n",
    "\n",
    "## Set the variables\n",
    "url = 'https://www.dcard.tw/f/plant'\n",
    "urlBase = 'https://'\n",
    "VisitedLinks = set()\n",
    "i=0\n",
    "\n",
    "## Create Permanent connection\n",
    "rs = requests.Session()\n",
    "\n",
    "## get the response\n",
    "r = rs.get(url)\n",
    "\n",
    "## Parsing the response\n",
    "soup = bs(r.text)\n",
    "hyperlinks = soup.find_all('a')\n",
    "\n",
    "print(type(soup.title), soup.title.text)\n",
    "\n",
    "for hlink in hyperlinks:\n",
    "    ## Check if the hypertext reference in tag \"a\" is valid.\n",
    "    try:\n",
    "        valid = re.search('/p/\\d+',hlink['href'])\n",
    "    except:\n",
    "        continue\n",
    "    if not valid: continue\n",
    "    UrlPost = url+valid.group()\n",
    "    \n",
    "    ## Check if the urlPost have been visited\n",
    "    if UrlPost in VisitedLinks: continue\n",
    "    VisitedLinks.add(UrlPost)\n",
    "    \n",
    "    ## Get image in each post.\n",
    "    rPost = rs.get(UrlPost)\n",
    "    soup2 = bs(rPost.text)\n",
    "    pics = soup2.find_all('img')\n",
    "    for pic in pics:\n",
    "        picurl = re.search(r'imgur.*',pic['src'])\n",
    "        if not picurl: continue\n",
    "        print(urlBase+picurl.group())\n",
    "        with rs.get(urlBase+picurl.group(),stream=True) as rPic:\n",
    "            im = Image.open(rPic.raw)\n",
    "            im.save('{}.'.format(i)+im.format)\n",
    "            i += 1\n",
    "    break \n"
   ]
  },
  {
   "cell_type": "code",
   "execution_count": null,
   "metadata": {},
   "outputs": [],
   "source": []
  },
  {
   "cell_type": "code",
   "execution_count": 148,
   "metadata": {},
   "outputs": [
    {
     "name": "stdout",
     "output_type": "stream",
     "text": [
      "<a class=\"tgn9uw-3 bbdvDs\" href=\"/f/plant/p/234385599\"><span>有植物專家能幫幫我嗎~</span></a><a class=\"tgn9uw-3 bbdvDs\" href=\"/f/plant/p/234391684\"><span>#問植物專家 請問這是什麼植物？</span></a><a class=\"tgn9uw-3 bbdvDs\" href=\"/f/plant/p/234385793\"><span>請問大家這是什麼樹？#盆景#小樹</span></a><a class=\"tgn9uw-3 bbdvDs\" href=\"/f/plant/p/234382363\"><span>（問）#荷花</span></a><a class=\"tgn9uw-3 bbdvDs\" href=\"/f/plant/p/234389928\"><span>請問這是什麼植物呢？</span></a><a class=\"tgn9uw-3 bbdvDs\" href=\"/f/plant/p/234386766\"><span>#請問 #多肉 #大戟科 #銀角珊瑚</span></a><a class=\"tgn9uw-3 bbdvDs\" href=\"/f/plant/p/234385322\"><span>#蕨類 請益這是什麼蕨？？</span></a><a class=\"tgn9uw-3 bbdvDs\" href=\"/f/plant/p/234373954\"><span>救救我的黃金葛</span></a><a class=\"tgn9uw-3 bbdvDs\" href=\"/f/plant/p/234370565\"><span>#問（已解決）這是什麼樹/花</span></a><a class=\"tgn9uw-3 bbdvDs\" href=\"/f/plant/p/234368559\"><span>水培的龜背芋終於長根了！！</span></a><a class=\"tgn9uw-3 bbdvDs\" href=\"/f/plant/p/234367462\"><span>請問這兩盆仙人掌名字是什麼</span></a><a class=\"tgn9uw-3 bbdvDs\" href=\"/f/plant/p/234365093\"><span>#空氣鳳梨</span></a><a class=\"tgn9uw-3 bbdvDs\" href=\"/f/plant/p/234363299\"><span>#多肉 詢問植物名</span></a><a class=\"tgn9uw-3 bbdvDs\" href=\"/f/plant/p/234362248\"><span>請問各位植物高手</span></a><a class=\"tgn9uw-3 bbdvDs\" href=\"/f/plant/p/234351378\"><span>仙人掌突然爛掉萎縮</span></a><a class=\"tgn9uw-3 bbdvDs\" href=\"/f/plant/p/234350741\"><span>#問卷 ＃抽現金 鮮花花束消費習慣調查</span></a><a class=\"tgn9uw-3 bbdvDs\" href=\"/f/plant/p/234350558\"><span>含羞草黃葉</span></a><a class=\"tgn9uw-3 bbdvDs\" href=\"/f/plant/p/234348386\"><span>#求救 波士頓腎蕨葉子枯了</span></a><a class=\"tgn9uw-3 bbdvDs\" href=\"/f/plant/p/234341680\"><span>黃金葛葉子枯爛</span></a><a class=\"tgn9uw-3 bbdvDs\" href=\"/f/plant/p/234341605\"><span>莫名奇妙的種子（？）</span></a><a class=\"tgn9uw-3 bbdvDs\" href=\"/f/plant/p/234340256\"><span>#多肉 求解名稱</span></a><a class=\"tgn9uw-3 bbdvDs\" href=\"/f/plant/p/234339855\"><span>塊根 鹿角蕨</span></a><a class=\"tgn9uw-3 bbdvDs\" href=\"/f/plant/p/234338219\"><span>有人知道這是什麼植物嗎？</span></a><a class=\"tgn9uw-3 bbdvDs\" href=\"/f/plant/p/234336748\"><span>#蕨類#鹿角蕨#巨獸鹿角蕨</span></a><a class=\"tgn9uw-3 bbdvDs\" href=\"/f/plant/p/234330845\"><span>找北部山烏龜賣家</span></a><a class=\"tgn9uw-3 bbdvDs\" href=\"/f/plant/p/234330625\"><span>#多肉 黃麗下葉變黃</span></a><a class=\"tgn9uw-3 bbdvDs\" href=\"/f/plant/p/234329896\"><span>#詢問 赤玉土上的白點</span></a><a class=\"tgn9uw-3 bbdvDs\" href=\"/f/plant/p/234320991\"><span>請問一下各位植物高手</span></a><a class=\"tgn9uw-3 bbdvDs\" href=\"/f/plant/p/234319897\"><span>#詢問 有人知道這幾盆是什麼嗎？</span></a><a class=\"tgn9uw-3 bbdvDs\" href=\"/f/plant/p/234318290\"><span>#多肉</span></a>\n"
     ]
    }
   ],
   "source": [
    "# pyquery 就是 python 版本的 jquery。語法幾乎是一樣的。所以可以查jquery大概怎麼用選擇器來學習。\n",
    "# jquery 資料 https://www.w3schools.com/jquery/jquery_ref_selectors.asp\n",
    "\n",
    "doc = pq(url=url)\n",
    "##print(doc('a'))\n",
    "#print(type(doc('a').eq(0).text()),doc('a').text()) #提供所有a標籤內含的 text (string)\n",
    "#print(type(doc('a').html()),doc('a').html()) #提供第一個a標籤裡面的 html內容 (string)\n",
    "#print(type(doc('[href]'))) # 找出所有包含 attribute \"href\"的標籤。\n",
    "\n",
    "## traversal (找出每一個 a標籤，再一個一個對 href 屬性)\n",
    "#for item in doc('a').items():\n",
    "#    print(item.attr('href'))\n",
    "\n",
    "# 直接查找 有href屬性，並且內容符合要求之格式的。\n",
    "# (找屬性時用 '[屬性]'；找ID時用 '#ID的值'；找標籤時用 '標籤')\n",
    "# =\"格式\" 表示跟後者完全一樣； !='格式' 表示不為後者；$='格式' 表示結尾為後者；^='格式' 表示開頭為後者；*='格式' 表示內容有後者。\n",
    "# 回傳的值是一個 pyquery物件，所以還是要用 eq(i)配合 attr('href')去抓出各個 reference。 但可以省去正則表達式配對的麻煩。\n",
    "d2=doc(\"[href*='/p/']\")\n",
    "print(d2)\n"
   ]
  },
  {
   "cell_type": "code",
   "execution_count": null,
   "metadata": {},
   "outputs": [],
   "source": []
  },
  {
   "cell_type": "code",
   "execution_count": null,
   "metadata": {},
   "outputs": [],
   "source": []
  }
 ],
 "metadata": {
  "kernelspec": {
   "display_name": "Python 3",
   "language": "python",
   "name": "python3"
  },
  "language_info": {
   "codemirror_mode": {
    "name": "ipython",
    "version": 3
   },
   "file_extension": ".py",
   "mimetype": "text/x-python",
   "name": "python",
   "nbconvert_exporter": "python",
   "pygments_lexer": "ipython3",
   "version": "3.7.3"
  }
 },
 "nbformat": 4,
 "nbformat_minor": 2
}
