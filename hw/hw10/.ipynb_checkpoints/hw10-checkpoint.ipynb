{
 "cells": [
  {
   "cell_type": "code",
   "execution_count": 68,
   "metadata": {},
   "outputs": [
    {
     "name": "stdout",
     "output_type": "stream",
     "text": [
      "<class 'pyquery.pyquery.PyQuery'>\n",
      "1 <class 'pyquery.pyquery.PyQuery'> 植物板 | Dcard\n",
      "https://imgur.dcard.tw/7g2mcLth.jpg\n",
      "https://imgur.dcard.tw/8acrGPXh.jpg\n",
      "https://imgur.dcard.tw/5EQEmD7h.jpg\n",
      "https://imgur.dcard.tw/LVwNAQ3h.jpg\n",
      "https://imgur.dcard.tw/VNFVv7Eh.jpg\n",
      "https://imgur.dcard.tw/SJLdHhPh.jpg\n",
      "https://imgur.dcard.tw/AwgHKxRh.jpg\n",
      "https://imgur.dcard.tw/ljs9Iyvh.jpg\n"
     ]
    }
   ],
   "source": [
    "'''\n",
    "beautifulsoup 把節點做成attribute方便定位，同時也提供遍歷/搜尋 節點的方法 (find, findall, select)。\n",
    "\n",
    "而pyquery每次運行都回傳對應tag的節點。(如有複數個，可以用len()找總數，用hyperlinks.eq(n)看第N個節點)\n",
    "\n",
    "\n",
    "# pyquery 預設載入 urllib / request(如果有) ，所以可以直接傳入URL當作輸入\n",
    "# pyquery 可以接受的輸入有 代碼 / URL / 文檔。\n",
    "# 使用 doc = pq(['代碼' | url=\"https://google.com\" | filename = \"D:/demo.xml\"]) 輸入檔案，並可以用parser關鍵字指定解析方式。\n",
    "'''\n",
    "import re,requests\n",
    "from PIL import Image\n",
    "from pyquery import PyQuery as pq\n",
    "\n",
    "url = 'https://www.dcard.tw/f/plant'\n",
    "urlBase = 'https://'\n",
    "VisitedLinks = set()\n",
    "i=0\n",
    "\n",
    "## Create Permanent connection\n",
    "rs = requests.Session()\n",
    "\n",
    "## get the response\n",
    "r = rs.get(url)\n",
    "doc = pq(url=url)\n",
    "print(type(doc))\n",
    "title = doc('title')\n",
    "hyperlinks= doc('a')\n",
    "print(len(title),type(title), title.text())\n",
    "\n",
    "for i in range(len(hyperlinks)):\n",
    "    \n",
    "    ## Check if the hypertext reference in tag \"a\" is valid.\n",
    "    hlink = hyperlinks.eq(i).attr('href')\n",
    "    if not hlink: continue\n",
    "    valid = re.search(r'/p/\\d+',hlink)\n",
    "    if not valid: continue\n",
    "        \n",
    "    ## Check if the urlPost have been visited\n",
    "    UrlPost = url+valid.group()\n",
    "    if UrlPost in VisitedLinks: continue\n",
    "    VisitedLinks.add(UrlPost)\n",
    "    \n",
    "    ## Get image in each post.\n",
    "    doc2 = pq(url=UrlPost)\n",
    "    pics = doc2('img')\n",
    "\n",
    "    for j in range(len(pics)):\n",
    "        picurl = pics.eq(j).attr('src')\n",
    "        if not picurl: continue \n",
    "        picurl = re.search('imgur.*',picurl)\n",
    "        if not picurl: continue\n",
    "        print(pics.eq(j).attr('src'))\n",
    "        with rs.get(pics.eq(j).attr('src'),stream=True) as rPic:\n",
    "            im = Image.open(rPic.raw)\n",
    "            im.save('{}.'.format(i)+im.format)\n",
    "            i += 1\n",
    "        \n",
    "    break    "
   ]
  },
  {
   "cell_type": "code",
   "execution_count": 8,
   "metadata": {},
   "outputs": [
    {
     "name": "stdout",
     "output_type": "stream",
     "text": [
      "<class 'bs4.element.Tag'> 植物板 | Dcard\n"
     ]
    }
   ],
   "source": [
    "# Using requests and beautifulsoup to get pictures on dcard/plant\n",
    "\n",
    "# 原本想往曬貓版去做，但不會處理webp，所以先用plant版做。(這個版的圖床是imgur，比較簡單。)\n",
    "# 作業繳交之後研究一下怎麼處理WEBP檔。\n",
    "#\n",
    "import requests, re\n",
    "from PIL import Image\n",
    "from bs4 import BeautifulSoup as bs\n",
    "\n",
    "\n",
    "## Set the variables\n",
    "url = 'https://www.dcard.tw/f/plant'\n",
    "urlBase = 'https://'\n",
    "VisitedLinks = set()\n",
    "i=0\n",
    "\n",
    "## Create Permanent connection\n",
    "rs = requests.Session()\n",
    "\n",
    "## get the response\n",
    "r = rs.get(url)\n",
    "\n",
    "## Parsing the response\n",
    "soup = bs(r.text)\n",
    "hyperlinks = soup.find_all('a')\n",
    "\n",
    "print(type(soup.title), soup.title.text)\n",
    "\n",
    "for hlink in hyperlinks:\n",
    "    ## Check if the hypertext reference in tag \"a\" is valid.\n",
    "    try:\n",
    "        valid = re.search('/p/\\d+',hlink['href'])\n",
    "    except:\n",
    "        continue\n",
    "    if not valid: continue\n",
    "    UrlPost = url+valid.group()\n",
    "    \n",
    "    ## Check if the urlPost have been visited\n",
    "    if UrlPost in VisitedLinks: continue\n",
    "    VisitedLinks.add(UrlPost)\n",
    "    \n",
    "    ## Get image in each post.\n",
    "    rPost = rs.get(UrlPost)\n",
    "    soup2 = bs(rPost.text)\n",
    "    pics = soup2.find_all('img')\n",
    "    for pic in pics:\n",
    "        picurl = re.search(r'imgur.*',pic['src'])\n",
    "        if not picurl: continue\n",
    "        print(urlBase+picurl.group())\n",
    "        with rs.get(urlBase+picurl.group(),stream=True) as rPic:\n",
    "            im = Image.open(rPic.raw)\n",
    "            im.save('{}.'.format(i)+im.format)\n",
    "            i += 1\n",
    "    break \n"
   ]
  },
  {
   "cell_type": "code",
   "execution_count": null,
   "metadata": {},
   "outputs": [],
   "source": []
  },
  {
   "cell_type": "code",
   "execution_count": 67,
   "metadata": {},
   "outputs": [
    {
     "name": "stdout",
     "output_type": "stream",
     "text": [
      "https://imgur.dcard.tw/7g2mcLth.jpg\n"
     ]
    }
   ],
   "source": [
    "\n"
   ]
  },
  {
   "cell_type": "code",
   "execution_count": null,
   "metadata": {},
   "outputs": [],
   "source": []
  }
 ],
 "metadata": {
  "kernelspec": {
   "display_name": "Python 3",
   "language": "python",
   "name": "python3"
  },
  "language_info": {
   "codemirror_mode": {
    "name": "ipython",
    "version": 3
   },
   "file_extension": ".py",
   "mimetype": "text/x-python",
   "name": "python",
   "nbconvert_exporter": "python",
   "pygments_lexer": "ipython3",
   "version": "3.7.3"
  }
 },
 "nbformat": 4,
 "nbformat_minor": 2
}
