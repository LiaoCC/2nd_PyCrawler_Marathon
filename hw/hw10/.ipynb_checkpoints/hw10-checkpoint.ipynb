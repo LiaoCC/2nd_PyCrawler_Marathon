{
 "cells": [
  {
   "cell_type": "code",
   "execution_count": null,
   "metadata": {},
   "outputs": [
    {
     "name": "stdout",
     "output_type": "stream",
     "text": [
      "asd\n"
     ]
    }
   ],
   "source": []
  },
  {
   "cell_type": "code",
   "execution_count": 2,
   "metadata": {},
   "outputs": [
    {
     "name": "stdout",
     "output_type": "stream",
     "text": [
      "https://imgur.dcard.tw/7g2mcLth.jpg\n",
      "https://imgur.dcard.tw/8acrGPXh.jpg\n",
      "https://imgur.dcard.tw/5EQEmD7h.jpg\n",
      "https://imgur.dcard.tw/LVwNAQ3h.jpg\n",
      "https://imgur.dcard.tw/VNFVv7Eh.jpg\n",
      "https://imgur.dcard.tw/SJLdHhPh.jpg\n",
      "https://imgur.dcard.tw/AwgHKxRh.jpg\n",
      "https://imgur.dcard.tw/ljs9Iyvh.jpg\n"
     ]
    }
   ],
   "source": [
    "# Using requests and beautifulsoup to get pictures on dcard/plant\n",
    "\n",
    "# 原本想往曬貓版去做，但不會處理webp，所以先用plant版做。(這個版的圖床是imgur，比較簡單。)\n",
    "# 作業繳交之後研究一下怎麼處理WEBP檔。\n",
    "#\n",
    "import requests, re\n",
    "from PIL import Image\n",
    "from bs4 import BeautifulSoup as bs\n",
    "\n",
    "\n",
    "## Set the variables\n",
    "url = 'https://www.dcard.tw/f/plant'\n",
    "urlBase = 'https://'\n",
    "VisitedLinks = set()\n",
    "i=0\n",
    "\n",
    "## Create Permanent connection\n",
    "rs = requests.Session()\n",
    "\n",
    "## get the response\n",
    "r = rs.get(url)\n",
    "\n",
    "## Parsing the response\n",
    "soup = bs(r.text)\n",
    "hyperlinks = soup.find_all('a')\n",
    "\n",
    "for hlink in hyperlinks:\n",
    "    ## Check if the hypertext reference in tag \"a\" is valid.\n",
    "    try:\n",
    "        valid = re.search('/p/\\d+',hlink['href'])\n",
    "    except:\n",
    "        continue\n",
    "    if not valid: continue\n",
    "    UrlPost = url+valid.group()\n",
    "    \n",
    "    ## Check if the urlPost have been visited\n",
    "    if UrlPost in VisitedLinks: continue\n",
    "    VisitedLinks.add(UrlPost)\n",
    "    \n",
    "    ## Get image in each post.\n",
    "    rPost = rs.get(UrlPost)\n",
    "    soup2 = bs(rPost.text)\n",
    "    pics = soup2.find_all('img')\n",
    "    for pic in pics:\n",
    "        picurl = re.search(r'imgur.*',pic['src'])\n",
    "        if not picurl: continue\n",
    "        print(urlBase+picurl.group())\n",
    "        with rs.get(urlBase+picurl.group(),stream=True) as rPic:\n",
    "            im = Image.open(rPic.raw)\n",
    "            im.save('{}.'.format(i)+im.format)\n",
    "            i += 1\n",
    "    break "
   ]
  },
  {
   "cell_type": "code",
   "execution_count": null,
   "metadata": {},
   "outputs": [],
   "source": [
    "!pip uninstall grab"
   ]
  },
  {
   "cell_type": "code",
   "execution_count": null,
   "metadata": {},
   "outputs": [],
   "source": []
  },
  {
   "cell_type": "code",
   "execution_count": null,
   "metadata": {},
   "outputs": [],
   "source": []
  }
 ],
 "metadata": {
  "kernelspec": {
   "display_name": "Python 3",
   "language": "python",
   "name": "python3"
  },
  "language_info": {
   "codemirror_mode": {
    "name": "ipython",
    "version": 3
   },
   "file_extension": ".py",
   "mimetype": "text/x-python",
   "name": "python",
   "nbconvert_exporter": "python",
   "pygments_lexer": "ipython3",
   "version": "3.7.3"
  }
 },
 "nbformat": 4,
 "nbformat_minor": 2
}
