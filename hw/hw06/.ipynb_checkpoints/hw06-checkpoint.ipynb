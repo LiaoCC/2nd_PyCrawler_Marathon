{
 "cells": [
  {
   "cell_type": "code",
   "execution_count": 35,
   "metadata": {},
   "outputs": [
    {
     "name": "stdout",
     "output_type": "stream",
     "text": [
      "The time question is raised at:  Mon Feb  6 22:10:29 2017 \n",
      "\n",
      "The time first answer is given at:  Mon Apr  1 10:17:08 2019 \n",
      "\n",
      "The time latest answer is given at:  Tue Oct 29 11:07:06 2019 \n",
      "\n"
     ]
    }
   ],
   "source": [
    "import requests, json, time\n",
    "\n",
    "# Url settings\n",
    "url = 'https://www.zhihu.com/api/v4/questions/55493026/answers'\n",
    "\n",
    "# Variables\n",
    "LastAnswer=''\n",
    "FirstAnswer=''\n",
    "\n",
    "# crawler\n",
    "rs = requests.Session()\n",
    "\n",
    "header = {'user-agent':'my-app/0.0.1'}\n",
    "r = rs.get(url,headers = header)\n",
    "data = json.loads(r.text)\n",
    "\n",
    "# Analysis\n",
    "QuestionTime = data['data'][0]['question']['created']\n",
    "\n",
    "for lines in data['data']:\n",
    "    if not FirstAnswer: FirstAnswer = lines['created_time']\n",
    "    LastAnswer = lines['created_time']\n",
    "# Print Result.\n",
    "Q = time.ctime(float(QuestionTime))\n",
    "FA = time.ctime(float(FirstAnswer))\n",
    "LA = time.ctime(float(LastAnswer))\n",
    "\n",
    "print('The time question is raised at: ', Q, '\\n')\n",
    "print('The time first answer is given at: ', FA, '\\n')\n",
    "print('The time latest answer is given at: ', LA, '\\n')"
   ]
  },
  {
   "cell_type": "code",
   "execution_count": 34,
   "metadata": {},
   "outputs": [
    {
     "data": {
      "text/plain": [
       "'Mon Feb  6 22:10:29 2017'"
      ]
     },
     "execution_count": 34,
     "metadata": {},
     "output_type": "execute_result"
    }
   ],
   "source": []
  },
  {
   "cell_type": "code",
   "execution_count": null,
   "metadata": {},
   "outputs": [],
   "source": []
  }
 ],
 "metadata": {
  "kernelspec": {
   "display_name": "Python 3",
   "language": "python",
   "name": "python3"
  },
  "language_info": {
   "codemirror_mode": {
    "name": "ipython",
    "version": 3
   },
   "file_extension": ".py",
   "mimetype": "text/x-python",
   "name": "python",
   "nbconvert_exporter": "python",
   "pygments_lexer": "ipython3",
   "version": "3.7.3"
  }
 },
 "nbformat": 4,
 "nbformat_minor": 2
}
