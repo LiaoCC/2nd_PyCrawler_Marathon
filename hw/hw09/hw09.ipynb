{
 "cells": [
  {
   "cell_type": "code",
   "execution_count": 20,
   "metadata": {},
   "outputs": [],
   "source": [
    "import requests,re\n",
    "from PIL import Image\n",
    "from bs4 import BeautifulSoup as bs\n",
    "from pprint import pprint\n",
    "\n",
    "url = 'https://www.ptt.cc/bbs/Beauty/M.1556291059.A.75A.html'\n",
    "urlBase = 'https://i.'\n",
    "cookies = {'over18':'1'}\n",
    "\n",
    "visitedLink = set()\n",
    "\n",
    "rs = requests.Session()\n",
    "r = rs.get(url,cookies=cookies)\n",
    "\n",
    "soup = bs(r.text)\n",
    "hyperLinks = soup.find_all('a')\n",
    "#pprint(soup.prettify())\n",
    "#pprint(hyperLinks)\n",
    "\n",
    "for link in hyperLinks:\n",
    "    express = re.search(r'imgur.*', link['href'])       \n",
    "    if not express: continue\n",
    "    pic = urlBase + express.group()+'.png'\n",
    "    if pic in visitedLink: continue\n",
    "    visitedLink.add(pic)\n",
    "    with rs.get(pic, stream=True) as rPic:\n",
    "        im = Image.open(rPic.raw)\n",
    "        im.save('{}.'.format(len(visitedLink))+im.format)\n",
    "        "
   ]
  },
  {
   "cell_type": "code",
   "execution_count": 4,
   "metadata": {},
   "outputs": [
    {
     "name": "stdout",
     "output_type": "stream",
     "text": [
      "123\n"
     ]
    }
   ],
   "source": []
  },
  {
   "cell_type": "code",
   "execution_count": null,
   "metadata": {},
   "outputs": [],
   "source": []
  }
 ],
 "metadata": {
  "kernelspec": {
   "display_name": "Python 3",
   "language": "python",
   "name": "python3"
  },
  "language_info": {
   "codemirror_mode": {
    "name": "ipython",
    "version": 3
   },
   "file_extension": ".py",
   "mimetype": "text/x-python",
   "name": "python",
   "nbconvert_exporter": "python",
   "pygments_lexer": "ipython3",
   "version": "3.7.3"
  }
 },
 "nbformat": 4,
 "nbformat_minor": 2
}
