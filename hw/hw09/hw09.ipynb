{
 "cells": [
  {
   "cell_type": "code",
   "execution_count": 45,
   "metadata": {},
   "outputs": [
    {
     "name": "stdout",
     "output_type": "stream",
     "text": [
      "<_io.BytesIO object at 0x0000021B1D650CA8>\n"
     ]
    }
   ],
   "source": [
    "import requests,re\n",
    "from PIL import Image\n",
    "from bs4 import BeautifulSoup as bs\n",
    "from pprint import pprint\n",
    "\n",
    "from io import BytesIO\n",
    "\n",
    "url = 'https://www.ptt.cc/bbs/Beauty/M.1556291059.A.75A.html'\n",
    "urlBase = 'https://i.'\n",
    "cookies = {'over18':'1'}\n",
    "\n",
    "visitedLink = set()\n",
    "\n",
    "rs = requests.Session()\n",
    "r = rs.get(url,cookies=cookies)\n",
    "\n",
    "soup = bs(r.text)\n",
    "hyperLinks = soup.find_all('a')\n",
    "#pprint(soup.prettify())\n",
    "#pprint(hyperLinks)\n",
    "\n",
    "for link in hyperLinks:\n",
    "    express = re.search(r'imgur.*', link['href'])       \n",
    "    if not express: continue #確認網址是否有效\n",
    "    pic = urlBase + express.group()+'.png' # 這裡後面接甚麼附檔名都可以，目的是要指向存放在網頁中的特定圖檔。 (沒加附檔名則會指向網頁本身)\n",
    "    if pic in visitedLink: continue #確認是否已讀\n",
    "    visitedLink.add(pic) \n",
    "    \n",
    "    with rs.get(pic, stream=True) as rPic\n",
    "        im = Image.open(rPic.raw)\n",
    "        im.save('{}.'.format(len(visitedLink))+im.format)\n",
    "    '''\n",
    "    # Another method to save img file.\n",
    "    \n",
    "    dataType={b'\\xff\\xd8':'jpeg',b'\\x42\\x4d': 'BMP', b'\\x47\\x49\\x46':'GIF', b'\\x89\\x50\\x89\\x50\\x4e\\x47\\x0d\\x0a\\x1a\\x0a': 'PNG'}\n",
    "    if dataType[rPic.content[0:2]]: dt = dataType[rPic.content[0:2]]\n",
    "    elif dataType[rPic.content[0:3]]: dt = dataType[rPic.content[0:3]]\n",
    "    elif dataType[rPic.content[0:8]]: dt = dataType[rPic.content[0:8]]\n",
    "    else : continue\n",
    "    with open('./{}.'.format(len(visitedLink)) + dt,'wb') as file:\n",
    "        for chunk in rPic.iter_content(chunk_size=128):\n",
    "            file.write(chunk)\n",
    "    \n",
    "    '''\n",
    "        "
   ]
  },
  {
   "cell_type": "code",
   "execution_count": null,
   "metadata": {},
   "outputs": [],
   "source": []
  },
  {
   "cell_type": "code",
   "execution_count": 36,
   "metadata": {},
   "outputs": [
    {
     "name": "stdout",
     "output_type": "stream",
     "text": [
      "<class 'bytes'>\n"
     ]
    }
   ],
   "source": []
  },
  {
   "cell_type": "code",
   "execution_count": null,
   "metadata": {},
   "outputs": [],
   "source": []
  }
 ],
 "metadata": {
  "kernelspec": {
   "display_name": "Python 3",
   "language": "python",
   "name": "python3"
  },
  "language_info": {
   "codemirror_mode": {
    "name": "ipython",
    "version": 3
   },
   "file_extension": ".py",
   "mimetype": "text/x-python",
   "name": "python",
   "nbconvert_exporter": "python",
   "pygments_lexer": "ipython3",
   "version": "3.7.3"
  }
 },
 "nbformat": 4,
 "nbformat_minor": 2
}
