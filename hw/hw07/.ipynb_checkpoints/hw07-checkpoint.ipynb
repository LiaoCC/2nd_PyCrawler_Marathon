{
 "cells": [
  {
   "cell_type": "code",
   "execution_count": null,
   "metadata": {},
   "outputs": [],
   "source": [
    "'''\n",
    "效率部分：\n",
    "\n",
    "目前提到的傳輸模式都是建立連結後，client送出一個要求，server送出一個回復並關閉連結。 (request.get())\n",
    "\n",
    "在需要傳遞多次要求的時候，會浪費很多時間在建立連結上。尤其對伺服器端造成的負擔會很大。\n",
    "如果有傳遞多次要求的需求，使用request.Session()後，利用Session方法製造出來的實例進行永久式連線，可以解決上述的問題。\n",
    "\n",
    "資安部分：\n",
    "\n",
    "HTTP協定本身是沒有提供任何資料保護措施的，任何有心人士擷取封包後，皆可以輕易讀懂內容物。\n",
    "如果裝載帳號密碼或是私人資料的封包被截取，那些資料就可能會被盜用並廣泛傳遞。\n",
    "\n",
    "目前廣泛使用的解是HTTPS。 HTTPS = HTTP+SSL/TLS。 是利用密碼學加密資料以在傳輸過程中保護資料內容，\n",
    "並在資料到達目的地後，利用只有用戶端跟伺服器端持有的鑰匙解密已進行溝通\n",
    "\n",
    "'''"
   ]
  },
  {
   "cell_type": "code",
   "execution_count": null,
   "metadata": {},
   "outputs": [],
   "source": [
    "'''\n",
    "不太知道16頁是哪一頁...\n",
    "\n",
    "但javascript 是靜態語言，所有變數在使用前都要先宣告type。\n",
    "'''"
   ]
  }
 ],
 "metadata": {
  "kernelspec": {
   "display_name": "Python 3",
   "language": "python",
   "name": "python3"
  },
  "language_info": {
   "codemirror_mode": {
    "name": "ipython",
    "version": 3
   },
   "file_extension": ".py",
   "mimetype": "text/x-python",
   "name": "python",
   "nbconvert_exporter": "python",
   "pygments_lexer": "ipython3",
   "version": "3.7.3"
  }
 },
 "nbformat": 4,
 "nbformat_minor": 2
}
