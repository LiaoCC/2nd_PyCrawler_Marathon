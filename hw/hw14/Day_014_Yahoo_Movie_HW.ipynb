{
 "cells": [
  {
   "cell_type": "markdown",
   "metadata": {},
   "source": [
    "# YAHOO電影爬蟲練習\n",
    "## 練習爬取電影放映資訊。必須逐步獲取電影的代號、放映地區、放映日期後，再送出查詢給伺服器。"
   ]
  },
  {
   "cell_type": "code",
   "execution_count": 1,
   "metadata": {},
   "outputs": [],
   "source": [
    "import requests\n",
    "import re\n",
    "from bs4 import BeautifulSoup"
   ]
  },
  {
   "cell_type": "markdown",
   "metadata": {},
   "source": [
    "### 先搜尋全部的電影代號(ID)資訊"
   ]
  },
  {
   "cell_type": "code",
   "execution_count": 2,
   "metadata": {},
   "outputs": [
    {
     "name": "stdout",
     "output_type": "stream",
     "text": [
      "Movie: 不傻不愛, ID: 10940\n",
      "Movie: 少女與戰車最終章第2話, ID: 10923\n",
      "Movie: 皮諾丘的奇幻旅程, ID: 10921\n",
      "Movie: 鋼鐵女孩：最後戰役, ID: 10917\n",
      "Movie: 惡之畫, ID: 10913\n",
      "Movie: 寂寞調香師, ID: 10905\n",
      "Movie: 名偵探奶奶, ID: 10893\n",
      "Movie: 重裝救援：全境獵殺, ID: 10892\n",
      "Movie: 搖擺艷夏, ID: 10890\n",
      "Movie: 整容液, ID: 10889\n",
      "Movie: 啊，荒野 後篇, ID: 10884\n",
      "Movie: 啊，荒野 前篇, ID: 10883\n",
      "Movie: 舞台 刀劍亂舞 悲傳 結目不如歸, ID: 10879\n",
      "Movie: 消失的情人節, ID: 10870\n",
      "Movie: 鋼琴師, ID: 10862\n",
      "Movie: 麥路人, ID: 10900\n",
      "Movie: 約會大作戰 赤黑新章：虛或實, ID: 10931\n",
      "Movie: 訂製幸福滋味, ID: 10908\n",
      "Movie: 中央車站：數位修復版, ID: 10907\n",
      "Movie: 教會, ID: 10899\n",
      "Movie: 怪物先生, ID: 10898\n",
      "Movie: 密弒直播, ID: 10888\n",
      "Movie: 特務搞飛機, ID: 10886\n",
      "Movie: 蠟筆小新：激戰！塗鴉王國與差不多四勇者, ID: 10874\n",
      "Movie: 海霧, ID: 10872\n",
      "Movie: 鬼爸爸, ID: 10839\n",
      "Movie: 蘿莉破壞王, ID: 10776\n",
      "Movie: 顫役輪迴, ID: 10544\n",
      "Movie: 退休大贏家, ID: 10920\n",
      "Movie: 我是大哥大！！劇場版, ID: 10871\n",
      "Movie: 德州電鋸殺人狂前傳：皮面人, ID: 10847\n",
      "Movie: 完美嬌妻養成班, ID: 10588\n",
      "Movie: 花木蘭, ID: 8632\n",
      "Movie: 馗降：粽邪2, ID: 10787\n",
      "Movie: 八月三十一日，我在奧斯陸, ID: 10885\n",
      "Movie: 蘇州河, ID: 10858\n",
      "Movie: 變種人, ID: 10452\n",
      "Movie: TENET天能, ID: 10433\n",
      "Movie: 最後的情書, ID: 10880\n",
      "Movie: 聖雅各的天空, ID: 10877\n",
      "Movie: 初心, ID: 10837\n",
      "Movie: 可不可以，你也剛好喜歡我, ID: 10473\n",
      "Movie: 東京教父：4K數位修復版, ID: 10860\n",
      "Movie: Fate/stay night [Heaven's Feel] III.春櫻之歌, ID: 10630\n",
      "Movie: 劇場版 新幹線變形機器人—來自未來的神速ALFA-X, ID: 10823\n",
      "Movie: 天劫倒數, ID: 10850\n",
      "Movie: 魔鬼對決, ID: 10842\n",
      "Movie: 隱藏的畫家, ID: 10841\n",
      "Movie: 怪胎, ID: 10733\n",
      "Movie: 雙面追緝, ID: 10824\n",
      "Movie: 淒厲人僧前傳, ID: 10822\n",
      "Movie: 戀夏時光, ID: 10797\n",
      "Movie: 小路與我的秘密驛站, ID: 10810\n",
      "Movie: 不丹是教室, ID: 10789\n",
      "Movie: 藍色恐懼：數位修復版, ID: 10775\n",
      "Movie: 角落小夥伴電影版：魔法繪本裡的新朋友, ID: 10647\n",
      "Movie: 死因無可疑, ID: 10755\n",
      "Movie: 鬼侍女, ID: 10735\n",
      "Movie: 頭號粉絲, ID: 10722\n",
      "Movie: 破處, ID: 10641\n",
      "Movie: 72小時前哨救援, ID: 10729\n",
      "Movie: 捕魔網, ID: 10727\n",
      "Movie: 福島50英雄, ID: 10726\n",
      "Movie: 親愛的小孩, ID: 10720\n",
      "Movie: 玩命Online：雙槍對決, ID: 10659\n",
      "Movie: 天后小助理, ID: 10559\n",
      "Movie: 失控特工, ID: 10734\n",
      "Movie: 明信片謀殺案, ID: 10724\n",
      "Movie: 最瘋狂的旅程, ID: 10705\n",
      "Movie: 決戰最前線, ID: 10699\n",
      "Movie: 深海擴散, ID: 10697\n",
      "Movie: 親愛陌生人, ID: 10643\n",
      "Movie: 敢殺就來, ID: 10649\n",
      "Movie: 淒厲人僧, ID: 10578\n",
      "Movie: 巴黎寂寞不打烊, ID: 10636\n",
      "Movie: 靠北少女, ID: 10575\n",
      "Movie: 海邊走走, ID: 10495\n",
      "Movie: 見鬼的戀愛季節, ID: 10612\n",
      "Movie: 無聲革命, ID: 10601\n",
      "Movie: 練愛iNG, ID: 10442\n",
      "Movie: 極地守護犬, ID: 10383\n",
      "Movie: 紅鞋公主與七矮人, ID: 10417\n",
      "Movie: 巧虎電影：英雄遊樂園, ID: 10429\n",
      "Movie: 在時間停止的世界相遇, ID: 10259\n",
      "Movie: AI終結戰, ID: 10057\n",
      "Movie: 一首搖滾上月球, ID: 4887\n",
      "Movie: 錢不夠用2, ID: 3026\n"
     ]
    }
   ],
   "source": [
    "# 查看目前上映那些電影，並擷取出其ID資訊\n",
    "url = 'https://movies.yahoo.com.tw/'\n",
    "resp = requests.get(url)\n",
    "resp.encoding = 'utf-8'\n",
    "\n",
    "soup = BeautifulSoup(resp.text, 'lxml')\n",
    "html = soup.find(\"select\", attrs={'name':'movie_id'})\n",
    "movie_item = html.find_all(\"option\", attrs={'data-name':re.compile('.*')})\n",
    "\n",
    "for p in movie_item:\n",
    "    print(\"Movie: %s, ID: %s\" % (p[\"data-name\"], p[\"value\"]))"
   ]
  },
  {
   "cell_type": "markdown",
   "metadata": {},
   "source": [
    "### 指定你有興趣的電影其ID，然後查詢其放映地區資訊。"
   ]
  },
  {
   "cell_type": "code",
   "execution_count": 11,
   "metadata": {},
   "outputs": [],
   "source": [
    "# 參考前一個步驟中擷取到的ID資訊，並指定ID\n",
    "movie_id = 10874"
   ]
  },
  {
   "cell_type": "code",
   "execution_count": 48,
   "metadata": {},
   "outputs": [
    {
     "name": "stdout",
     "output_type": "stream",
     "text": [
      "[{'area_id': 28, 'title': '台北市', 'priority': 150, 'ts_update': 1547519309}, {'area_id': 8, 'title': '新北市', 'priority': 145, 'ts_update': 1547194527}, {'area_id': 16, 'title': '桃園', 'priority': 140, 'ts_update': 1547452573}, {'area_id': 20, 'title': '新竹', 'priority': 135, 'ts_update': 1547452603}, {'area_id': 15, 'title': '苗栗', 'priority': 130, 'ts_update': 1547452620}, {'area_id': 2, 'title': '台中', 'priority': 125, 'ts_update': 1547507368}, {'area_id': 10, 'title': '台南', 'priority': 100, 'ts_update': 1547507403}, {'area_id': 17, 'title': '高雄', 'priority': 95, 'ts_update': 1547507403}]\n",
      "[{\"area_id\":28,\"title\":\"\\u53f0\\u5317\\u5e02\",\"priority\":150,\"ts_update\":1547519309},{\"area_id\":8,\"title\":\"\\u65b0\\u5317\\u5e02\",\"priority\":145,\"ts_update\":1547194527},{\"area_id\":16,\"title\":\"\\u6843\\u5712\",\"priority\":140,\"ts_update\":1547452573},{\"area_id\":20,\"title\":\"\\u65b0\\u7af9\",\"priority\":135,\"ts_update\":1547452603},{\"area_id\":15,\"title\":\"\\u82d7\\u6817\",\"priority\":130,\"ts_update\":1547452620},{\"area_id\":2,\"title\":\"\\u53f0\\u4e2d\",\"priority\":125,\"ts_update\":1547507368},{\"area_id\":10,\"title\":\"\\u53f0\\u5357\",\"priority\":100,\"ts_update\":1547507403},{\"area_id\":17,\"title\":\"\\u9ad8\\u96c4\",\"priority\":95,\"ts_update\":1547507403}]\n",
      "放映地區: 台北市, 代號(area_id): 28\n",
      "放映地區: 新北市, 代號(area_id): 8\n",
      "放映地區: 桃園, 代號(area_id): 16\n",
      "放映地區: 新竹, 代號(area_id): 20\n",
      "放映地區: 苗栗, 代號(area_id): 15\n",
      "放映地區: 台中, 代號(area_id): 2\n",
      "放映地區: 台南, 代號(area_id): 10\n",
      "放映地區: 高雄, 代號(area_id): 17\n"
     ]
    }
   ],
   "source": [
    "url = 'https://movies.yahoo.com.tw/api/v1/areas_by_movie_theater'\n",
    "payload = {'movie_id':str(movie_id)}\n",
    "\n",
    "# 模擬一個header\n",
    "headers = {\n",
    "    'authority': 'movies.yahoo.com.tw',\n",
    "    'method': 'GET',\n",
    "    'path': '/api/v1/areas_by_movie_theater?movie_id=' + str(movie_id),\n",
    "    'scheme': 'https',\n",
    "    'accept': 'application/json, text/javascript, */*; q=0.01',\n",
    "    'accept-encoding': 'gzip, deflate, br',\n",
    "    'accept-language': 'zh-TW,zh;q=0.9,en-US;q=0.8,en;q=0.7,zh-CN;q=0.6',\n",
    "    'cookie': 'rxx=9s3x2fws06.1g16irnc&v=1; _ga=GA1.3.2056742944.1551651301; GUC=AQEBAQFczFpdm0IfmwSB&s=AQAAACoo4N5D&g=XMsVBw; BX=4hkdk1decm57t&b=3&s=mr; _ga=GA1.4.2056742944.1551651301; nexagesuid=82843256dd234e8e91aa73f2062f8218; browsed_movie=eyJpdiI6IlJXWWtiSWJaZlNGK2MxQnhscnVUYWc9PSIsInZhbHVlIjoiMXRhMmVHRXRIeUNjc1RBWDJzdGYwbnlIQURmWGsrcjJSMzhkbkcraDNJVUNIZEZsbzU3amlFcVZ1NzlmazJrTGpoMjVrbHk1YmpoRENXaHZTOUw1TmI2ZTZVWHdOejZQZm16RmVuMWlHTTJLaTZLVFZZVkFOMDlTd1wvSGltcytJIiwibWFjIjoiZWQ2ZjA4MmVjZmZlYjlmNjJmYmY2NGMyMDI0Njc0NWViYjVkOWE2NDg0N2RhODMxZjBjZDhiMmJhZTc2MDZhYiJ9; avi=eyJpdiI6Im1NeWFJRlVRWDR1endEcGRGUGJUbVE9PSIsInZhbHVlIjoickRpU3JuUytmcGl6cjF5OW0rNU9iZz09IiwibWFjIjoiY2VmY2NkNzZmM2NhNjY5YzlkOTcyNjE5OGEyMzU0NWYxOTdmMDRkMDY3OWNmMmZjOTMxYjc5MjI5N2Q5NGE5MiJ9; cmp=t=1559391030&j=0; _gid=GA1.4.779543841.1559391031; XSRF-TOKEN=eyJpdiI6IkhpS2hGcDRQaHlmWUJmaHdSS2Q2bHc9PSIsInZhbHVlIjoiOUVoNFk4OHI1UUZmUWRtYXhza0MyWjJSTlhlZ3RnT0VGeVJPN2JuczVRMGRFdWt2OUlsamVKeHRobFwvcHBGM0dhU3VyMXNGTHlsb2dVM2l0U1hpUGxBPT0iLCJtYWMiOiJkZWU4YzJhNjAxMTY3MzE4Y2ExNWIxYmE1ZjE1YWZlZTlhOTcyYjc4M2RlZGY4ZWNjZDYyMTA2NGYwZGViMzc2In0%3D; m_s=eyJpdiI6InpsZHZ2Tk1BZ0dxaHhETml1RjBnUXc9PSIsInZhbHVlIjoiSkNGeHUranRoXC85bDFiaDhySTJqNkJRcWdjWUxjeVRJSHVYZ1wvd2d4bWJZUTUrSHVDM0lUcW5KNHdETFZ4T1lieU81OUhzc1VoUXhZcWk0UDZSQXVFdz09IiwibWFjIjoiYmJkMDJkMDhlODIzMzcyMWY4M2NmYWNjNGVlOWRjMDIwZmVmNzAyMjE3Yzg3ZGY3ODBkZWEzZTI4MTI5ZWNmOSJ9; _gat=1; nexagesd=10',\n",
    "    'dnt': '1',\n",
    "    'mv-authorization': '21835b082e15b91a69b3851eec7b31b82ce82afb',\n",
    "    'referer': 'https://movies.yahoo.com.tw/',\n",
    "    'user-agent': 'Mozilla/5.0 (Windows NT 10.0; Win64; x64) AppleWebKit/537.36 (KHTML, like Gecko) Chrome/74.0.3729.169 Safari/537.36',\n",
    "    'x-requested-with': 'XMLHttpRequest',\n",
    "}\n",
    "    \n",
    "resp = requests.get(url, params=payload, headers=headers)\n",
    "#print(resp.json())  # 若有需要，列印出json原始碼\n",
    "print(resp.json())\n",
    "\n",
    "# 這裡回傳的格式是JSON格式的資料，要解析JSON擷取資料\n",
    "for p in resp.json():\n",
    "    print('放映地區: {0}, 代號(area_id): {1}'.format(p['title'], p['area_id']))"
   ]
  },
  {
   "cell_type": "markdown",
   "metadata": {},
   "source": [
    "### 指定你想要觀看的放映地區，查詢有上映電影的場次日期"
   ]
  },
  {
   "cell_type": "code",
   "execution_count": 13,
   "metadata": {},
   "outputs": [],
   "source": [
    "# 指定放映地區\n",
    "area_id = 28"
   ]
  },
  {
   "cell_type": "code",
   "execution_count": 14,
   "metadata": {},
   "outputs": [
    {
     "name": "stdout",
     "output_type": "stream",
     "text": [
      "九月 21\n",
      "九月 22\n",
      "九月 23\n",
      "九月 24\n",
      "九月 25\n"
     ]
    }
   ],
   "source": [
    "# 向網站發送請求\n",
    "url = 'https://movies.yahoo.com.tw/movietime_result.html'\n",
    "payload = {'movie_id':str(movie_id), 'area_id':str(area_id)}\n",
    "resp = requests.get(url, params=payload)\n",
    "resp.encoding = 'utf-8'\n",
    "\n",
    "soup = BeautifulSoup(resp.text, 'lxml')\n",
    "movie_date = soup.find_all(\"label\", attrs={'for':re.compile(\"date_[\\d]\")})\n",
    "\n",
    "# 列印播放日期\n",
    "for date in movie_date:\n",
    "    print(\"%s %s\" % (date.p.string, date.h3.string))"
   ]
  },
  {
   "cell_type": "markdown",
   "metadata": {},
   "source": [
    "### 最後指定觀看的日期，查詢並列印出放映的電影院、放映類型(數位、3D、IMAX 3D...)、放映時間等資訊。"
   ]
  },
  {
   "cell_type": "code",
   "execution_count": 15,
   "metadata": {},
   "outputs": [],
   "source": [
    "# 選定要觀看的日期\n",
    "date = \"2020-09-22\""
   ]
  },
  {
   "cell_type": "code",
   "execution_count": 22,
   "metadata": {},
   "outputs": [],
   "source": [
    "# 向網站發送請求，獲取上映的電影院及時間資訊\n",
    "url = \"https://movies.yahoo.com.tw/ajax/pc/get_schedule_by_movie\"\n",
    "payload = {'movie_id':str(movie_id),\n",
    "           'date':date,\n",
    "           'area_id':str(area_id),\n",
    "           'theater_id':'',\n",
    "           'datetime':'',\n",
    "           'movie_type_id':''}\n",
    "\n",
    "resp = requests.get(url, params=payload)\n",
    "#print(resp.json()['view'])  # 若有需要，列印出json原始碼\n",
    "\n",
    "soup = BeautifulSoup(resp.json()['view'], 'lxml')\n",
    "html = soup.find_all(\"ul\", attrs={'data-theater_name':re.compile(\".*\")})"
   ]
  },
  {
   "cell_type": "code",
   "execution_count": 45,
   "metadata": {},
   "outputs": [
    {
     "name": "stdout",
     "output_type": "stream",
     "text": [
      "<ul class=\"area_time _c jq_area_time\" data-theater_name=\"台北美麗華大直影城\" data-theater_schedules=\"https://movies.yahoo.com.tw/theater_result.html/id=32\" data-theater_url=\"http://www.miramarcinemas.tw/\" id=\"theater_id_32\">\n",
      "<li class=\"adds\">\n",
      "<a href=\"https://movies.yahoo.com.tw/theater_result.html/id=32\">台北美麗華大直影城</a>\n",
      "<span>02-85022208</span>\n",
      "</li>\n",
      "<li class=\"taps\">\n",
      "<span class=\"tapR\">數位</span> <span class=\"tapB\">中文</span> </li>\n",
      "<li class=\"time _c\">\n",
      "<div class=\"input_picker jq_input_picker\">\n",
      "<input class=\"gabtn\" data-cinema=\"40288eb0050f31210ada0f55676b1bbc\" data-date=\"1600704000\" data-ezding=\"ezding\" data-ga=\"['電影頁_時刻表', '電影頁_時刻表_場次', '蠟筆小新：激戰！塗鴉王國與差不多四勇者']\" data-movie=\"abbcb8ca063848e09fec333083c54011\" data-movie_date=\"09.22\" data-movie_time=\"13:30\" data-movie_title=\"蠟筆小新：激戰！塗鴉王國與差不多四勇者\" data-movie_type=\"數位\" data-session=\"25036c065662415681133b4d6aadd10b\" data-time=\"1600752600\" id=\"74147525\" name=\"schedule_list\" type=\"radio\" value=\"2020-09-22 13:30:00\"/>\n",
      "<label class=\"select\" for=\"74147525\">13:30</label>\n",
      "<input class=\"gabtn\" data-cinema=\"40288eb0050f31210ada0f55676b1bbc\" data-date=\"1600704000\" data-ezding=\"ezding\" data-ga=\"['電影頁_時刻表', '電影頁_時刻表_場次', '蠟筆小新：激戰！塗鴉王國與差不多四勇者']\" data-movie=\"abbcb8ca063848e09fec333083c54011\" data-movie_date=\"09.22\" data-movie_time=\"17:00\" data-movie_title=\"蠟筆小新：激戰！塗鴉王國與差不多四勇者\" data-movie_type=\"數位\" data-session=\"7e68f35341924ed6a7feab5c1db772be\" data-time=\"1600765200\" id=\"74147526\" name=\"schedule_list\" type=\"radio\" value=\"2020-09-22 17:00:00\"/>\n",
      "<label class=\"select\" for=\"74147526\">17:00</label>\n",
      "</div>\n",
      "</li>\n",
      "</ul>\n",
      "----------------------------------------\n",
      "電影院：  台北美麗華大直影城\n",
      "放映類型：  數位\n",
      "2020-09-22 13:30:00\n",
      "2020-09-22 17:00:00\n",
      "----------------------------------------\n",
      "電影院：  台北新光影城\n",
      "放映類型：  數位\n",
      "2020-09-22 14:20:00\n",
      "2020-09-22 18:20:00\n",
      "----------------------------------------\n",
      "電影院：  喜滿客絕色影城\n",
      "放映類型：  數位\n",
      "2020-09-22 10:50:00\n",
      "2020-09-22 13:00:00\n",
      "2020-09-22 17:05:00\n",
      "----------------------------------------\n",
      "電影院：  台北信義威秀影城\n",
      "放映類型：  數位\n",
      "2020-09-22 10:05:00\n",
      "2020-09-22 13:00:00\n",
      "2020-09-22 16:20:00\n",
      "2020-09-22 21:30:00\n",
      "----------------------------------------\n",
      "電影院：  京站威秀影城\n",
      "放映類型：  數位\n",
      "2020-09-22 10:20:00\n",
      "2020-09-22 14:10:00\n",
      "----------------------------------------\n",
      "電影院：  喜樂時代影城南港店\n",
      "放映類型：  數位\n",
      "2020-09-22 13:20:00\n",
      "2020-09-22 17:10:00\n"
     ]
    }
   ],
   "source": [
    "'''\n",
    "\n",
    "  試著從上一步驟回傳的電影院資料中，擷取電影院名稱、影片放映類型以及時間表\n",
    "  \n",
    "  Your code here.\n",
    "\n",
    "'''\n",
    "\n",
    "\n",
    "print(html[0])\n",
    "for i in html:\n",
    "    print('-'*40)\n",
    "    print('電影院： ',i.find_all('a')[0].text)\n",
    "    # i.find_all('a')[0].text 等價於 i.a.string (把a元素的內文全部印出來。)\n",
    "    \n",
    "    print('放映類型： ', i.find_all('span',attrs={'class': 'tapR'})[0].text)\n",
    "    times = i.find_all('input', attrs={'class':'gabtn'})\n",
    "    for t in times:\n",
    "        print(t.attrs['value'])"
   ]
  },
  {
   "cell_type": "code",
   "execution_count": null,
   "metadata": {},
   "outputs": [],
   "source": []
  }
 ],
 "metadata": {
  "kernelspec": {
   "display_name": "Python 3",
   "language": "python",
   "name": "python3"
  },
  "language_info": {
   "codemirror_mode": {
    "name": "ipython",
    "version": 3
   },
   "file_extension": ".py",
   "mimetype": "text/x-python",
   "name": "python",
   "nbconvert_exporter": "python",
   "pygments_lexer": "ipython3",
   "version": "3.7.3"
  }
 },
 "nbformat": 4,
 "nbformat_minor": 2
}
