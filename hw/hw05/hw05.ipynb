{
 "cells": [
  {
   "cell_type": "code",
   "execution_count": 6,
   "metadata": {},
   "outputs": [
    {
     "name": "stdout",
     "output_type": "stream",
     "text": [
      "There are  30  lines of data\n",
      "\n",
      "The titles of first  30  data: ['柴老大排出便便魔法陣🔮✡️', '我大公橘在哺乳', '到底為什麼那麼委屈啦', '大陸糞片虐待動物', '大叔味飄出來囉', '比中指才叫的來的毛小孩', '給你方便，居然爬到我頭上來！', '蜜袋鼯吃Oreo🤨', '根本在虐狗令人唾棄的主人！', '每到這個時間⋯', '女大18變⋯⋯？', '#志工 夜宿中途貓咖體驗', '主子不吃鱉蛋粉', '貓咪表情包', '黏人的小狗！', '就當作是緣分吧', '如果寵物出了零食', '升格變成小媽媽', '有看過如此囂張的柯基嗎？現在有了', '偶像起床的瞬間', '2隻比特犬街頭恐攻畫面曝光\\u30003男不敵！飼主家竟還有4隻', '家有梨子🍐', '看一陣子抖音發現一件事', '你什麼時候學會站的🐈🐈', '問#台中推薦獸醫院（結紮後一直不願意吃飯😭4天了）', '（代po) 高雄 賓士公成貓 收養', '請問有人可以領養奶貓嗎？', '當你的主人很喜歡迷因⋯2', '滿臉厭世的龜兄弟🐢', '#請益 貓咪一直想溜出門😭']\n",
      "The Create time of first  30  data: ['2020-09-05T13:10:22.974Z', '2020-09-05T04:17:04.173Z', '2020-09-05T16:58:32.937Z', '2020-09-05T07:20:35.065Z', '2020-09-05T18:47:19.309Z', '2020-09-05T17:25:06.656Z', '2020-09-05T08:30:11.058Z', '2020-09-05T03:12:51.527Z', '2020-09-05T13:26:18.351Z', '2020-09-05T15:54:48.794Z', '2020-09-05T09:46:14.105Z', '2020-09-05T17:06:21.840Z', '2020-09-05T12:29:57.412Z', '2020-09-05T04:29:33.327Z', '2020-09-05T21:22:46.029Z', '2020-09-06T10:05:15.651Z', '2020-09-06T05:10:20.632Z', '2020-09-05T14:15:58.958Z', '2020-09-05T08:46:46.737Z', '2020-09-05T06:37:46.115Z', '2020-09-05T09:49:37.580Z', '2020-09-05T11:31:26.000Z', '2020-09-05T07:26:35.695Z', '2020-09-06T04:56:56.713Z', '2020-09-05T14:37:48.907Z', '2020-09-05T06:32:13.360Z', '2020-09-05T05:43:49.532Z', '2020-09-06T06:44:55.282Z', '2020-09-06T02:26:57.102Z', '2020-09-05T10:29:35.895Z']\n",
      "The Comment Number of first  30  data: [25, 6, 7, 47, 2, 13, 3, 10, 14, 5, 0, 2, 5, 3, 3, 0, 5, 7, 1, 3, 0, 0, 3, 1, 11, 0, 4, 0, 2, 5]\n",
      "The Like Number of first  30  data: [728, 279, 213, 197, 171, 125, 96, 82, 65, 30, 27, 26, 21, 21, 20, 19, 18, 17, 17, 15, 13, 11, 11, 9, 8, 8, 8, 6, 6, 5]\n"
     ]
    }
   ],
   "source": [
    "import requests, json\n",
    "#For the First two questions in the hw\n",
    "\n",
    "\n",
    "# Get the API and analysis it.\n",
    "url = 'https://www.dcard.tw/_api/forums/pet/posts?popular=true'\n",
    "rs = requests.Session()\n",
    "r = rs.get(url)\n",
    "data = json.loads(r.text)\n",
    "\n",
    "# Variables setting\n",
    "Title = list()\n",
    "Time = list()\n",
    "Comments = list()\n",
    "Likes = list()\n",
    "ids = list()\n",
    "\n",
    "# find the homework targets.\n",
    "# title, createdAt, commentCount, likeCount\n",
    "for lines in data:\n",
    "    Title.append(lines['title'])\n",
    "    Time.append(lines['createdAt'])\n",
    "    Comments.append(lines['commentCount'])\n",
    "    Likes.append(lines['likeCount'])\n",
    "    ids.append(lines['id'])\n",
    "\n",
    "ndata = len(data)\n",
    "keys = data[0].keys()\n",
    "\n",
    "print('There are ',ndata,' lines of data\\n')\n",
    "print('The titles of first ', ndata, ' data:', Title)\n",
    "print('The Create time of first ', ndata, ' data:', Time)\n",
    "print('The Comment Number of first ', ndata, ' data:', Comments)\n",
    "print('The Like Number of first ', ndata, ' data:', Likes)\n"
   ]
  },
  {
   "cell_type": "code",
   "execution_count": 11,
   "metadata": {},
   "outputs": [
    {
     "name": "stdout",
     "output_type": "stream",
     "text": [
      "Average comments number and likes number for first 30 popular posts:  6 / 77\n",
      "Average comments number and likes number for first 30 latest posts:  2 / 15\n"
     ]
    }
   ],
   "source": [
    "import requests, json\n",
    "#For the First two questions in the hw\n",
    "\n",
    "\n",
    "# Get the API and analysis it.\n",
    "url1 = 'https://www.dcard.tw/_api/forums/pet/posts?popular=true'\n",
    "url2 = 'https://www.dcard.tw/_api/forums/pet/posts?popular=false'\n",
    "rs = requests.Session()\n",
    "r1 = rs.get(url1)\n",
    "r2 = rs.get(url2)\n",
    "data1 = json.loads(r1.text)\n",
    "data2 = json.loads(r2.text)\n",
    "ndata = len(data1)\n",
    "\n",
    "# Variables setting\n",
    "Comments = list()\n",
    "Likes = list()\n",
    "\n",
    "for i in range(0,ndata):\n",
    "    Comments.append(data1[i]['commentCount'])\n",
    "    Comments.append(data2[i]['commentCount'])\n",
    "    Likes.append(data1[i]['likeCount'])\n",
    "    Likes.append(data2[i]['likeCount'])\n",
    "AveCom1 = sum(Comments[::2]) // ndata\n",
    "AveCom2 = sum(Comments[1::2]) // ndata\n",
    "\n",
    "AveLike1 = sum(Likes[::2]) // ndata\n",
    "AveLike2 = sum(Likes[1::2]) // ndata\n",
    "\n",
    "print('Average comments number and likes number for first 30 popular posts: ', AveCom1, '/', AveLike1)\n",
    "print('Average comments number and likes number for first 30 non-popular posts: ', AveCom2, '/', AveLike2)"
   ]
  },
  {
   "cell_type": "code",
   "execution_count": null,
   "metadata": {},
   "outputs": [],
   "source": []
  },
  {
   "cell_type": "code",
   "execution_count": null,
   "metadata": {},
   "outputs": [],
   "source": []
  }
 ],
 "metadata": {
  "kernelspec": {
   "display_name": "Python 3",
   "language": "python",
   "name": "python3"
  },
  "language_info": {
   "codemirror_mode": {
    "name": "ipython",
    "version": 3
   },
   "file_extension": ".py",
   "mimetype": "text/x-python",
   "name": "python",
   "nbconvert_exporter": "python",
   "pygments_lexer": "ipython3",
   "version": "3.7.3"
  }
 },
 "nbformat": 4,
 "nbformat_minor": 2
}
