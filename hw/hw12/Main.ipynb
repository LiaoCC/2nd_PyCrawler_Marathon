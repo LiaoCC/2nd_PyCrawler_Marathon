{
 "cells": [
  {
   "cell_type": "code",
   "execution_count": 58,
   "metadata": {},
   "outputs": [
    {
     "name": "stdout",
     "output_type": "stream",
     "text": [
      "所有貼文的title 跟 dates分別儲存在命名為 titles / dates的list裡面。\n",
      "\n",
      "\n",
      "溫馨提醒：文章標題(titles)及發佈時間(dates)依照類別儲存在字典 TagList中。TagList的關鍵字分別有： ['國際', '房產雲', '體育', '時尚', '財經', '寵物動物', 'ET車雲', '生活', '旅遊', '社會', '大陸', '影劇', '消費', '3C家電', '政治', '地方', '遊戲', '論壇', '探索'] \n",
      "\n",
      "如想查找各類別底下有何標題，請使用TagList[key]['titles']\n",
      "目前各類別底下分別有:  [8, 3, 9, 2, 9, 6, 2, 8, 8, 12, 9, 8, 1, 2, 9, 1, 1, 1, 1] \n",
      "個貼文\n",
      "最多貼文的類別為： 社會\n"
     ]
    }
   ],
   "source": [
    "import requests, re\n",
    "from pyquery import PyQuery as pq\n",
    "from pprint import pprint\n",
    "\n",
    "url = 'https://www.ettoday.net/news/news-list.html'\n",
    "rs = requests.Session()\n",
    "r = rs.get(url)\n",
    "\n",
    "doc = pq(r.text)\n",
    "\n",
    "## get data.\n",
    "## PostInfos are inside node \"h3\", the publish date of each post was stored in tag \"span\", and the title of each post is a sibling node of \"span\" with tag \"a\"\n",
    "dates_pre = doc('h3')('span.date')\n",
    "titles_pre = dates_pre.siblings('a')\n",
    "tags_pre = doc('h3')('span.date').siblings('em')\n",
    "\n",
    "## date and title of each post saved as lists.\n",
    "dates  = re.findall( '.*?:\\d\\d' , dates_pre.text())\n",
    "titles = re.split(' ',titles_pre.text())\n",
    "\n",
    "## sort the posts with tag.\n",
    "## Here I use hash table to do it. \n",
    "## for each tag==key, value equals to another dict contains two keys dates and titles.\n",
    "TagList = {}\n",
    "TagCount = {}\n",
    "for i in range(len(dates_pre)):\n",
    "    t = tags_pre.eq(i).text()\n",
    "    if t not in TagList: \n",
    "        TagList[t] = {'dates':[], 'titles':[]}\n",
    "        TagCount[t] = 0\n",
    "    TagList[t]['dates'].append(dates[i])\n",
    "    TagList[t]['titles'].append(titles[i])\n",
    "    TagCount[t] +=1\n",
    "\n",
    "\n",
    "##Print the solution\n",
    "keys = list(TagList.keys())\n",
    "values = list(TagCount.values())\n",
    "print(\"所有貼文的title 跟 dates分別儲存在命名為 titles / dates的list裡面。\\n\\n\")\n",
    "\n",
    "print(\"溫馨提醒：文章標題(titles)及發佈時間(dates)依照類別儲存在字典 TagList中。TagList的關鍵字分別有：\", keys,'\\n')        \n",
    "print(\"如想查找各類別底下有何標題，請使用TagList[key]['titles']\\n\")\n",
    "\n",
    "print('目前各類別底下分別有: ', values, \"個貼文\\n\")\n",
    "print('最多貼文的類別為：', keys[values.index(max(values))] )\n",
    "        \n",
    "\n"
   ]
  },
  {
   "cell_type": "code",
   "execution_count": null,
   "metadata": {},
   "outputs": [],
   "source": []
  },
  {
   "cell_type": "code",
   "execution_count": null,
   "metadata": {},
   "outputs": [],
   "source": []
  }
 ],
 "metadata": {
  "kernelspec": {
   "display_name": "Python 3",
   "language": "python",
   "name": "python3"
  },
  "language_info": {
   "codemirror_mode": {
    "name": "ipython",
    "version": 3
   },
   "file_extension": ".py",
   "mimetype": "text/x-python",
   "name": "python",
   "nbconvert_exporter": "python",
   "pygments_lexer": "ipython3",
   "version": "3.7.3"
  }
 },
 "nbformat": 4,
 "nbformat_minor": 2
}
