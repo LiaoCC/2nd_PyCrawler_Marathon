{
 "cells": [
  {
   "cell_type": "markdown",
   "metadata": {},
   "source": [
    "# PTT 網路爬蟲實作練習\n",
    "\n",
    "\n",
    "* 能夠利用 Request + BeatifulSour 撰寫爬蟲，並存放到合適的資料結構\n"
   ]
  },
  {
   "cell_type": "markdown",
   "metadata": {},
   "source": [
    "## 作業目標\n",
    "\n",
    "根據範例 ，完成以下問題：\n",
    "\n",
    "* ① 印出最新文章的「作者」「標題」「時間」\n",
    "* ② 印出第一頁所有文章的「作者」「標題」「時間」\n"
   ]
  },
  {
   "cell_type": "markdown",
   "metadata": {},
   "source": [
    "### ① 印出最新文章的「作者」「標題」「時間」"
   ]
  },
  {
   "cell_type": "code",
   "execution_count": 32,
   "metadata": {},
   "outputs": [
    {
     "name": "stdout",
     "output_type": "stream",
     "text": [
      "arthur::  NewShiisDog (牛寺是狗)\n",
      "title:  Re: [討論] 鬍子季後賽運氣是不是不好?\n",
      "date:  Fri Sep 11 11:44:47 2020\n",
      "arthur::  e23718 (second)\n",
      "title:  Re: [討論] 鬍子季後賽運氣是不是不好?\n",
      "date:  Fri Sep 11 12:11:51 2020\n",
      "arthur::  AlanLinKL (AlanKL)\n",
      "title:  [花邊] Lillard與Snoop Dogg合作，釋出新曲向Ko\n",
      "date:  Fri Sep 11 12:15:53 2020\n",
      "arthur::  bbbyes123 (冬日將至)\n",
      "title:  [討論] 火箭的未來該怎麼走\n",
      "date:  Fri Sep 11 12:17:42 2020\n",
      "arthur::  thnlkj0665 (灰色地帶)\n",
      "title:  [情報] Rajon Rondo季後賽生涯助攻升至史上第11名\n",
      "date:  Fri Sep 11 12:42:38 2020\n",
      "arthur::  Ken52039 (Ken Huang)\n",
      "title:  [新聞] 重申沒想去尼克！KD：不想當救世主\n",
      "date:  Fri Sep 11 12:47:12 2020\n",
      "arthur::  y28822885 (小睡)\n",
      "title:  Re: [討論] 火箭的未來該怎麼走\n",
      "date:  Fri Sep 11 12:50:00 2020\n",
      "arthur::  Vedan (味丹)\n",
      "title:  [公告] 第一次被退文，可在三天後刪除退文\n",
      "date:  Mon Mar 9 11:44:26 2020\n",
      "arthur::  namie810303 (爽喔!! 你看看你)\n",
      "title:  [公告] 8/15實施季賽條款 以及提醒事項\n",
      "date:  Thu Aug 13 23:21:08 2020\n",
      "arthur::  Acetoxy (阿斯)\n",
      "title:  [情報] Playoffs Schedule 19–20\n",
      "date:  Tue Aug 18 04:10:40 2020\n"
     ]
    }
   ],
   "source": [
    "import requests\n",
    "from pyquery import PyQuery as pq\n",
    "\n",
    "url = 'https://www.ptt.cc/bbs/NBA/index.html'\n",
    "urlBase = 'https://www.ptt.cc'\n",
    "\n",
    "\n",
    "rs = requests.Session()\n",
    "r = rs.get(url)\n",
    "\n",
    "doc = pq(r.text)\n",
    "\n",
    "hlink = doc('div.title')('a')\n",
    "for link in hlink.items():\n",
    "    r = rs.get(urlBase+link.attr('href'))\n",
    "    dr = pq(r.text)\n",
    "    stuff = dr('span.article-meta-value')\n",
    "    if not stuff: continue\n",
    "    print('arthur:: ', stuff.eq(0).text())\n",
    "    print('title: '  , stuff.eq(2).text())\n",
    "    print('date: '   , stuff.eq(3).text())"
   ]
  },
  {
   "cell_type": "markdown",
   "metadata": {},
   "source": [
    "### ② 印出第一頁所有文章的「作者」「標題」「時間」"
   ]
  },
  {
   "cell_type": "code",
   "execution_count": 38,
   "metadata": {},
   "outputs": [
    {
     "name": "stdout",
     "output_type": "stream",
     "text": [
      "arthur::  Price (Price)\n",
      "title:  [轉錄]Lyotard 對於太陽板討論串的結論\n",
      "date:  Sun May 16 01:54:33 2004\n",
      "arthur::  Price (Price)\n",
      "title:  [公告] 請停止一切關於本次活動的發言\n",
      "date:  Mon May 24 00:43:00 2004\n",
      "arthur::  Frankaze (神采風華)\n",
      "title:  [轉錄]跟之前那篇比起來 我覺得這篇也應該轉過來\n",
      "date:  Tue Jun 8 01:16:45 2004\n",
      "arthur::  Frankaze (神采風華)\n",
      "title:  [轉錄]再轉一篇好文來\n",
      "date:  Tue Jun 8 09:02:23 2004\n",
      "arthur::  Price (Price)\n",
      "title:  [轉錄][情報] 夏洛特山貓系列\n",
      "date:  Thu Jun 10 00:39:35 2004\n",
      "arthur::  Price (Price)\n",
      "title:  [轉錄]Re: [心得] 真是受不了糗爺....\n",
      "date:  Thu Jun 10 00:51:35 2004\n",
      "arthur::  Price (Price)\n",
      "title:  [轉錄]總冠軍賽NO.2觀後感\n",
      "date:  Thu Jun 10 12:05:07 2004\n",
      "arthur::  AmuroNamie (原來太嗨真的會失眠^___^)\n",
      "title:  [心得] Rasheed Wallace\n",
      "date:  Fri Jun 11 15:06:09 2004\n",
      "arthur::  toptree ( )\n",
      "title:  掌控球賽的男人\n",
      "date:  Sat Jun 12 07:13:04 2004\n",
      "arthur::  skchang (3EB板開板囉！)\n",
      "title:  [閒聊] 說說2004季後賽名場面回顧\n",
      "date:  Sat Jun 12 13:21:49 2004\n",
      "arthur::  shineup ()\n",
      "title:  [心得] 其實說穿了 就是活塞的防守太可怕了\n",
      "date:  Sat Jun 12 13:12:47 2004\n",
      "arthur::  cOvi (喵~)\n",
      "title:  Re: [閒聊] 說說2004季後賽名場面回顧\n",
      "date:  Sat Jun 12 16:43:07 2004\n",
      "arthur::  ykshih (￼N￼Ns)\n",
      "title:  Re: [閒聊] 說說2004季後賽名場面回顧\n",
      "date:  Sat Jun 12 17:26:37 2004\n",
      "arthur::  Frankaze (神采風華)\n",
      "title:  Re: [閒聊] 說說2004季後賽名場面回顧\n",
      "date:  Sat Jun 12 18:34:46 2004\n",
      "arthur::  Price (Price)\n",
      "title:  [轉錄]Re: 總冠軍賽NO.3觀後感\n",
      "date:  Mon Jun 14 02:18:52 2004\n",
      "arthur::  Frankaze (神采風華)\n",
      "title:  [轉錄]Re: 總冠軍賽NO.3觀後感\n",
      "date:  Mon Jun 14 02:34:33 2004\n",
      "arthur::  star1 (第一次魔術表演不算成功)\n",
      "title:  Re: [轉錄]Re: 總冠軍賽NO.3觀後感\n",
      "date:  Mon Jun 14 07:16:30 2004\n",
      "arthur::  coldspring (笑笑)\n",
      "title:  Re: [轉錄]Re: 總冠軍賽NO.3觀後感\n",
      "date:  Mon Jun 14 09:24:57 2004\n",
      "arthur::  airbear (地圖)\n",
      "title:  Re: Kobe is frustrated...\n",
      "date:  Mon Jun 14 12:56:14 2004\n",
      "arthur::  pennykidd (andre)\n",
      "title:  Re: [轉錄]Re: 總冠軍賽NO.3觀後感\n",
      "date:  Mon Jun 14 22:07:01 2004\n"
     ]
    }
   ],
   "source": [
    "import requests\n",
    "from pyquery import PyQuery as pq\n",
    "\n",
    "url = 'https://www.ptt.cc/bbs/NBA/index1.html'\n",
    "urlBase = 'https://www.ptt.cc'\n",
    "\n",
    "rs = requests.Session()\n",
    "r = rs.get(url)\n",
    "doc = pq(r.text)\n",
    "hlink = doc('div.title')('a')\n",
    "\n",
    "for link in hlink.items():\n",
    "    r = rs.get(urlBase+link.attr('href'))\n",
    "    dr = pq(r.text)\n",
    "    stuff = dr('span.article-meta-value')\n",
    "    if not stuff: continue\n",
    "    print('arthur:: ', stuff.eq(0).text())\n",
    "    print('title: '  , stuff.eq(2).text())\n",
    "    print('date: '   , stuff.eq(3).text())"
   ]
  },
  {
   "cell_type": "markdown",
   "metadata": {},
   "source": [
    "### ③ 試著爬爬看其他版的文章"
   ]
  },
  {
   "cell_type": "code",
   "execution_count": 61,
   "metadata": {},
   "outputs": [
    {
     "name": "stdout",
     "output_type": "stream",
     "text": [
      "PicUrl: ['https://i.imgur.com/S2hpEdE.png'] \n",
      "\n",
      "PicUrl: ['https://i.imgur.com/0rxHPZi.jpg', 'https://i.imgur.com/BVO1hJ3.jpg', 'https://i.imgur.com/DeMicM2.jpg', 'https://i.imgur.com/MY9QQjE.jpg', 'https://i.imgur.com/IFjkmtk.jpg', 'https://i.imgur.com/r6QfhFv.jpg', 'https://i.imgur.com/CcOirtR.jpg', 'https://i.imgur.com/rMNzFJz.jpg', 'https://i.imgur.com/fJQHEWT.jpg', 'https://i.imgur.com/HarUZpI.jpg', 'https://i.imgur.com/kZR8byh.jpg'] \n",
      "\n",
      "PicUrl: ['https://i.imgur.com/kysNgsJ.jpg', 'https://i.imgur.com/bNNrs59.jpg', 'https://i.imgur.com/IoqrM0K.jpg'] \n",
      "\n",
      "PicUrl: ['https://i.imgur.com/UtOTUrf.jpg', 'https://i.imgur.com/dPsO6s4.jpg', 'https://i.imgur.com/tVpMoQv.jpg', 'https://i.imgur.com/y6tVvTW.jpg', 'https://i.imgur.com/6KcOMAw.jpg', 'https://i.imgur.com/2xXuRuk.jpg', 'https://i.imgur.com/FnQwBWq.jpg', 'https://i.imgur.com/z6dT4qy.jpg', 'https://i.imgur.com/oDodvZf.jpg'] \n",
      "\n",
      "PicUrl: ['https://i.imgur.com/mHRVCMC.jpg', 'https://i.imgur.com/li5GmCV.jpg', 'https://i.imgur.com/twZxNN9.jpg', 'https://i.imgur.com/MAw1Cuk.jpg', 'https://i.imgur.com/PobZTgA.jpg', 'https://i.imgur.com/a4jXD6D.jpg', 'https://i.imgur.com/922PVVF.jpg', 'https://i.imgur.com/ivBZ3Vm.jpg', 'https://i.imgur.com/U0Czxy2.jpg'] \n",
      "\n",
      "PicUrl: ['https://i.imgur.com/BoJHaJy.jpg', 'https://i.imgur.com/E32qRMO.jpg', 'https://i.imgur.com/DzmgEGd.jpg', 'https://i.imgur.com/RVYBAOJ.jpg', 'https://i.imgur.com/n6HNJRr.jpg', 'https://i.imgur.com/nrE8Hff.jpg', 'https://i.imgur.com/xBW99Sc.jpg', 'https://i.imgur.com/cF8BQWZ.jpg', 'https://i.imgur.com/vkfd8cI.jpg', 'https://i.imgur.com/TUuPjy5.jpg', 'https://i.imgur.com/shtkakF.jpg'] \n",
      "\n"
     ]
    }
   ],
   "source": [
    "import requests,re\n",
    "from pyquery import PyQuery as pq\n",
    "\n",
    "url = 'https://www.ptt.cc/bbs/Beauty/index.html'\n",
    "urlBase = 'https://www.ptt.cc'\n",
    "cookie = {'over18':'1'}\n",
    "\n",
    "rs = requests.Session()\n",
    "\n",
    "r = rs.get(url, cookies =cookie)\n",
    "doc = pq(r.text)\n",
    "hlinks = doc('div.title')('a')\n",
    "for link in hlinks.items():\n",
    "    if not re.findall('正妹',link.text()): continue\n",
    "    r = rs.get(urlBase+link.attr('href'),cookies = cookie)\n",
    "    dr = pq(r.text)\n",
    "    rr = re.findall('https://i.imgur.com/.+[jp][pn]g',dr.text())\n",
    "    if not rr: continue\n",
    "    print('PicUrl:',rr,'\\n')\n",
    "\n",
    "\n",
    "\n"
   ]
  },
  {
   "cell_type": "code",
   "execution_count": 55,
   "metadata": {},
   "outputs": [
    {
     "data": {
      "text/plain": [
       "['as', 'da']"
      ]
     },
     "execution_count": 55,
     "metadata": {},
     "output_type": "execute_result"
    }
   ],
   "source": []
  },
  {
   "cell_type": "code",
   "execution_count": null,
   "metadata": {},
   "outputs": [],
   "source": []
  }
 ],
 "metadata": {
  "kernelspec": {
   "display_name": "Python 3",
   "language": "python",
   "name": "python3"
  },
  "language_info": {
   "codemirror_mode": {
    "name": "ipython",
    "version": 3
   },
   "file_extension": ".py",
   "mimetype": "text/x-python",
   "name": "python",
   "nbconvert_exporter": "python",
   "pygments_lexer": "ipython3",
   "version": "3.7.3"
  }
 },
 "nbformat": 4,
 "nbformat_minor": 2
}
